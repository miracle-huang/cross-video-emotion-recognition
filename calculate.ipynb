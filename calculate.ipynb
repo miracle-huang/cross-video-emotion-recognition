{
 "cells": [
  {
   "cell_type": "code",
   "execution_count": 2,
   "id": "70dc654f",
   "metadata": {},
   "outputs": [
    {
     "name": "stdout",
     "output_type": "stream",
     "text": [
      "   VideoID  arousal  valence\n",
      "0     '10'     4.08     6.99\n",
      "1     '13'     4.23     7.58\n",
      "2    '138'     4.12     3.74\n",
      "3     '18'     3.84     7.14\n",
      "4     '19'     4.42     3.88\n",
      "5     '20'     5.15     3.56\n",
      "6     '23'     5.01     3.46\n",
      "7     '30'     6.79     3.55\n",
      "8     '31'     6.00     3.30\n",
      "9     '34'     5.59     2.91\n",
      "10    '36'     6.52     3.15\n",
      "11     '4'     5.64     5.81\n",
      "12     '5'     6.05     6.75\n",
      "13    '58'     4.38     6.93\n",
      "14    '80'     5.50     7.64\n",
      "15     '9'     5.53     6.34\n"
     ]
    }
   ],
   "source": [
    "import pandas as pd\n",
    "\n",
    "# 读取Excel文件\n",
    "df = pd.read_excel('D:/huangzhiying/cross-video-emotion-recognition/cross-video-emotion-recognition/dataset/amigo/self_assessment.xlsx')\n",
    "\n",
    "# 确保VideoID是字符串类型\n",
    "df['VideoID'] = df['VideoID'].astype(str)\n",
    "\n",
    "# 按VideoID分组并计算平均值\n",
    "video_means = df.groupby('VideoID')[['arousal', 'valence']].mean().round(2)\n",
    "\n",
    "# 重置索引，使VideoID成为一个列\n",
    "video_means = video_means.reset_index()\n",
    "\n",
    "# 显示结果\n",
    "print(video_means)\n",
    "\n",
    "# 如果需要保存结果到新的Excel文件\n",
    "video_means.to_excel('video_averages.xlsx', index=False)\n"
   ]
  }
 ],
 "metadata": {
  "kernelspec": {
   "display_name": "cross-subject-seed",
   "language": "python",
   "name": "python3"
  },
  "language_info": {
   "codemirror_mode": {
    "name": "ipython",
    "version": 3
   },
   "file_extension": ".py",
   "mimetype": "text/x-python",
   "name": "python",
   "nbconvert_exporter": "python",
   "pygments_lexer": "ipython3",
   "version": "3.9.21"
  }
 },
 "nbformat": 4,
 "nbformat_minor": 5
}
